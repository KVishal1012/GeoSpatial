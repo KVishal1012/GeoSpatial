import pandas as pd
import numpy as np
import matplotlib.pyplot as plt
import seaborn as sns
import torch


my_list = [[1,2,3],[4,5,6],[7,8,9]]                     # create a list
tensor = torch.tensor(my_list)  # convert the list to a tensor
print(tensor)                # print the tensor 
print(tensor.shape)          # print the shape of the tensor



a = torch.tensor([[1,1],[2,2]]) # create a 2x2 tensor
b = torch.tensor([[3,3],[4,4]]) # create another 2x2 tensor
c = a + b # add the two tensors
print(c)  # print the result

d = a * b # multiply the two tensors
print(d)  # print the result    

d.shape

#Designing a neural network
import torch.nn as nn  # import the nn module from PyTorch
import torch.nn.functional as F  # import the functional module from PyTorch

# Input neurons = features
# Output neurons = classes
# Hidden neurons = in between input and output

#Create input_tensor with three features
input_tensor = torch.tensor([[0.3445, 0.4546, -0.2356]])  # create a 1x3 tensor with random values

# Define our linear layer
linear_layer = nn.Linear(in_features = 3, out_features=2)  
# create a linear layer with 3 input features and 2 output feature

# Apply the linear layer to the input tensor
output_tensor = linear_layer(input_tensor)  # apply the linear layer to the input tensor

print(output_tensor)  # print the output tensor