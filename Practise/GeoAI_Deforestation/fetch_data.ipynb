{
 "cells": [
  {
   "cell_type": "code",
   "execution_count": 19,
   "metadata": {},
   "outputs": [],
   "source": [
    "import ee \n",
    "import os\n",
    "import pandas as pd\n",
    "import geopandas as gpd\n",
    "import matplotlib.pyplot as plt"
   ]
  },
  {
   "cell_type": "code",
   "execution_count": 20,
   "metadata": {},
   "outputs": [
    {
     "name": "stdout",
     "output_type": "stream",
     "text": [
      "GEE is ready!\n"
     ]
    }
   ],
   "source": [
    "#Initialize Google Earth Engine\n",
    "ee.Initialize(project = 'geoai-deforestation')\n",
    "print(\"GEE is ready!\")"
   ]
  },
  {
   "cell_type": "code",
   "execution_count": 21,
   "metadata": {},
   "outputs": [],
   "source": [
    "\n",
    "# Define Amazon region (1°×1° for speed)\n",
    "geometry = ee.Geometry.Rectangle([-57, -8, -56, -7])"
   ]
  },
  {
   "cell_type": "code",
   "execution_count": 22,
   "metadata": {},
   "outputs": [],
   "source": [
    "# Cloud masking function\n",
    "def maskClouds(image):\n",
    "    scl = image.select('SCL')\n",
    "    mask = scl.eq(4)  # Vegetation only for cleaner NDVI\n",
    "    return image.updateMask(mask)"
   ]
  },
  {
   "cell_type": "code",
   "execution_count": 23,
   "metadata": {},
   "outputs": [
    {
     "name": "stdout",
     "output_type": "stream",
     "text": [
      "Sentinel-2 SR Harmonized fetched!\n"
     ]
    }
   ],
   "source": [
    "# Fetch Sentinel-2 imagery (2022-2023, cloud-free, Level-2A Harmonized)\n",
    "try:\n",
    "    s2 = ee.ImageCollection('COPERNICUS/S2_SR_HARMONIZED') \\\n",
    "        .filterBounds(geometry) \\\n",
    "        .filterDate('2022-01-01', '2023-12-31') \\\n",
    "        .filter(ee.Filter.lt('CLOUDY_PIXEL_PERCENTAGE', 20)) \\\n",
    "        .map(maskClouds) \\\n",
    "        .median()\n",
    "    s2_bands = s2.select(['B4', 'B8'])\n",
    "    print(\"Sentinel-2 SR Harmonized fetched!\")\n",
    "except Exception as e:\n",
    "    print(f\"Failed to fetch Sentinel-2: {e}\")\n",
    "    raise"
   ]
  },
  {
   "cell_type": "code",
   "execution_count": 24,
   "metadata": {},
   "outputs": [
    {
     "name": "stdout",
     "output_type": "stream",
     "text": [
      "GFW fetched!\n"
     ]
    }
   ],
   "source": [
    "# Fetch GFW tree cover loss (2023)\n",
    "try:\n",
    "    gfw = ee.Image('UMD/hansen/global_forest_change_2023_v1_11') \\\n",
    "        .select('lossyear') \\\n",
    "        .eq(23)  # 2023 loss (23 = 2023)\n",
    "    print(\"GFW fetched!\")\n",
    "except Exception as e:\n",
    "    print(f\"Failed to fetch GFW: {e}\")\n",
    "    raise"
   ]
  },
  {
   "cell_type": "code",
   "execution_count": 25,
   "metadata": {},
   "outputs": [],
   "source": [
    "# Create output directory\n",
    "data_dir = 'data'\n",
    "os.makedirs(data_dir, exist_ok=True)"
   ]
  },
  {
   "cell_type": "code",
   "execution_count": 26,
   "metadata": {},
   "outputs": [
    {
     "name": "stdout",
     "output_type": "stream",
     "text": [
      "Exporting Sentinel-2 SR to Google Drive... Check Drive for 'sentinel2_sr_amazon_2023.tif'.\n"
     ]
    }
   ],
   "source": [
    "# Export Sentinel-2 to GeoTIFF\n",
    "try:\n",
    "    task_s2 = ee.batch.Export.image.toDrive(\n",
    "        image=s2_bands,\n",
    "        description='sentinel2_sr_amazon_2023',\n",
    "        folder='geoai_deforestation',\n",
    "        region=geometry.getInfo()['coordinates'],\n",
    "        scale=10,\n",
    "        crs='EPSG:4326',\n",
    "        fileFormat='GeoTIFF',\n",
    "        maxPixels=2e8  # Increased to 200 million\n",
    "    )\n",
    "    task_s2.start()\n",
    "    print(\"Exporting Sentinel-2 SR to Google Drive... Check Drive for 'sentinel2_sr_amazon_2023.tif'.\")\n",
    "except Exception as e:\n",
    "    print(f\"Sentinel-2 export failed: {e}\")\n",
    "    raise"
   ]
  },
  {
   "cell_type": "code",
   "execution_count": 27,
   "metadata": {},
   "outputs": [
    {
     "name": "stdout",
     "output_type": "stream",
     "text": [
      "Exporting GFW to Google Drive... Check Drive for 'gfw_loss_2023.tif'.\n"
     ]
    }
   ],
   "source": [
    "# Export GFW to GeoTIFF\n",
    "try:\n",
    "    task_gfw = ee.batch.Export.image.toDrive(\n",
    "        image=gfw,\n",
    "        description='gfw_loss_2023',\n",
    "        folder='geoai_deforestation',\n",
    "        region=geometry.getInfo()['coordinates'],\n",
    "        scale=30,\n",
    "        crs='EPSG:4326',\n",
    "        fileFormat='GeoTIFF',\n",
    "        maxPixels=2e8  # Increased for safety\n",
    "    )\n",
    "    task_gfw.start()\n",
    "    print(\"Exporting GFW to Google Drive... Check Drive for 'gfw_loss_2023.tif'.\")\n",
    "except Exception as e:\n",
    "    print(f\"GFW export failed: {e}\")\n",
    "    raise"
   ]
  },
  {
   "cell_type": "code",
   "execution_count": null,
   "metadata": {},
   "outputs": [],
   "source": []
  }
 ],
 "metadata": {
  "kernelspec": {
   "display_name": "GeoAI (.venv)",
   "language": "python",
   "name": "geoai_venv"
  },
  "language_info": {
   "codemirror_mode": {
    "name": "ipython",
    "version": 3
   },
   "file_extension": ".py",
   "mimetype": "text/x-python",
   "name": "python",
   "nbconvert_exporter": "python",
   "pygments_lexer": "ipython3",
   "version": "3.9.7"
  }
 },
 "nbformat": 4,
 "nbformat_minor": 2
}
