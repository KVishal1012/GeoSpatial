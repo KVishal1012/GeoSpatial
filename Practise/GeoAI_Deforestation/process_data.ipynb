{
 "cells": [
  {
   "cell_type": "code",
   "execution_count": 10,
   "metadata": {},
   "outputs": [
    {
     "name": "stdout",
     "output_type": "stream",
     "text": [
      "Libraries imported!\n"
     ]
    }
   ],
   "source": [
    "#import libraries\n",
    "import rasterio\n",
    "import numpy as np\n",
    "import pandas as pd\n",
    "from rasterio.warp import calculate_default_transform, reproject, Resampling\n",
    "import folium\n",
    "import os\n",
    "import matplotlib.pyplot as plt\n",
    "import geopandas as gpd\n",
    "print(\"Libraries imported!\")"
   ]
  },
  {
   "cell_type": "code",
   "execution_count": 2,
   "metadata": {},
   "outputs": [
    {
     "name": "stdout",
     "output_type": "stream",
     "text": [
      "Paths defined!\n"
     ]
    }
   ],
   "source": [
    "# Paths\n",
    "s2_path = 'data/sentinel2_sr_amazon_2023.tif'\n",
    "dem_path = 'data/dem.tif'\n",
    "gfw_path = 'data/gfw_loss_2023.tif'\n",
    "output_dir = 'data/processed'\n",
    "os.makedirs(output_dir, exist_ok=True)\n",
    "\n",
    "print(\"Paths defined!\")"
   ]
  },
  {
   "cell_type": "code",
   "execution_count": 3,
   "metadata": {},
   "outputs": [
    {
     "name": "stdout",
     "output_type": "stream",
     "text": [
      "Sentinel-2 SR loaded!\n"
     ]
    }
   ],
   "source": [
    "# Load Sentinel-2\n",
    "try:\n",
    "    with rasterio.open(s2_path) as s2:\n",
    "        b4 = s2.read(1).astype(float)  # Red\n",
    "        b8 = s2.read(2).astype(float)  # Near-infrared\n",
    "        transform = s2.transform\n",
    "        crs = s2.crs\n",
    "        profile = s2.profile\n",
    "    print(\"Sentinel-2 SR loaded!\")\n",
    "except Exception as e:\n",
    "    print(f\"Failed to load Sentinel-2: {e}\")\n",
    "    raise"
   ]
  },
  {
   "cell_type": "code",
   "execution_count": 4,
   "metadata": {},
   "outputs": [
    {
     "name": "stderr",
     "output_type": "stream",
     "text": [
      "/var/folders/5k/0xhc217n6n1_kbh5sblmhcpm0000gn/T/ipykernel_66315/4094520342.py:2: RuntimeWarning: invalid value encountered in divide\n",
      "  ndvi = np.where((b8 + b4) != 0, (b8 - b4) / (b8 + b4), 0)\n"
     ]
    },
    {
     "name": "stdout",
     "output_type": "stream",
     "text": [
      "NDVI saved as data/processed/ndvi.tif\n"
     ]
    }
   ],
   "source": [
    "# Calculate NDVI\n",
    "ndvi = np.where((b8 + b4) != 0, (b8 - b4) / (b8 + b4), 0)\n",
    "profile.update(count=1, dtype=rasterio.float32)\n",
    "\n",
    "# Save NDVI\n",
    "ndvi_path = os.path.join(output_dir, 'ndvi.tif')\n",
    "with rasterio.open(ndvi_path, 'w', **profile) as dst:\n",
    "    dst.write(ndvi, 1)\n",
    "print(f\"NDVI saved as {ndvi_path}\")"
   ]
  },
  {
   "cell_type": "code",
   "execution_count": 5,
   "metadata": {},
   "outputs": [
    {
     "name": "stdout",
     "output_type": "stream",
     "text": [
      "DEM loaded!\n",
      "Slope calculated!\n"
     ]
    }
   ],
   "source": [
    "# Load and reproject DEM\n",
    "try:\n",
    "    with rasterio.open(dem_path) as dem:\n",
    "        elevation = dem.read(1)\n",
    "        dem_transform = dem.transform\n",
    "        dem_crs = dem.crs\n",
    "    print(\"DEM loaded!\")\n",
    "except Exception as e:\n",
    "    print(f\"Failed to load DEM: {e}\")\n",
    "    raise\n",
    "\n",
    "elevation_reproj = np.zeros_like(ndvi)\n",
    "transform, width, height = calculate_default_transform(dem_crs, crs, dem.width, dem.height, *dem.bounds)\n",
    "reproject(\n",
    "    source=elevation,\n",
    "    destination=elevation_reproj,\n",
    "    src_transform=dem_transform,\n",
    "    src_crs=dem_crs,\n",
    "    dst_transform=transform,\n",
    "    dst_crs=crs,\n",
    "    resampling=Resampling.bilinear\n",
    ")\n",
    "slope = np.gradient(elevation_reproj)[0]\n",
    "print(\"Slope calculated!\")"
   ]
  },
  {
   "cell_type": "code",
   "execution_count": 6,
   "metadata": {},
   "outputs": [
    {
     "name": "stdout",
     "output_type": "stream",
     "text": [
      "GFW loaded!\n",
      "Labels created!\n"
     ]
    }
   ],
   "source": [
    "# Load and resample GFW\n",
    "try:\n",
    "    with rasterio.open(gfw_path) as gfw:\n",
    "        loss = gfw.read(1)\n",
    "        gfw_transform = gfw.transform\n",
    "        gfw_crs = gfw.crs\n",
    "    print(\"GFW loaded!\")\n",
    "except Exception as e:\n",
    "    print(f\"Failed to load GFW: {e}\")\n",
    "    raise\n",
    "\n",
    "loss_reproj = np.zeros_like(ndvi, dtype=np.uint8)\n",
    "reproject(\n",
    "    source=loss,\n",
    "    destination=loss_reproj,\n",
    "    src_transform=gfw_transform,\n",
    "    src_crs=gfw_crs,\n",
    "    dst_transform=transform,\n",
    "    dst_crs=crs,\n",
    "    resampling=Resampling.nearest\n",
    ")\n",
    "labels = np.where(loss_reproj > 0, 1, 0)  # 1 = loss, 0 = no loss\n",
    "print(\"Labels created!\")"
   ]
  },
  {
   "cell_type": "code",
   "execution_count": 7,
   "metadata": {},
   "outputs": [
    {
     "name": "stdout",
     "output_type": "stream",
     "text": [
      "Dataset saved as data/processed/ml_dataset.csv\n"
     ]
    }
   ],
   "source": [
    "# Create ML dataset\n",
    "points = 500  # For 0.5°×0.5°\n",
    "h, w = ndvi.shape\n",
    "x, y = np.random.randint(0, h, points), np.random.randint(0, w, points)\n",
    "data = {\n",
    "    'NDVI': [ndvi[i, j] for i, j in zip(x, y)],\n",
    "    'Elevation': [elevation_reproj[i, j] for i, j in zip(x, y)],\n",
    "    'Slope': [slope[i, j] for i, j in zip(x, y)],\n",
    "    'Deforestation': [labels[i, j] for i, j in zip(x, y)]\n",
    "}\n",
    "df = pd.DataFrame(data)\n",
    "csv_path = os.path.join(output_dir, 'ml_dataset.csv')\n",
    "df.to_csv(csv_path)\n",
    "print(f\"Dataset saved as {csv_path}\")"
   ]
  },
  {
   "cell_type": "code",
   "execution_count": 13,
   "metadata": {},
   "outputs": [
    {
     "name": "stdout",
     "output_type": "stream",
     "text": [
      "NDVI loaded for PNG conversion!\n",
      "NDVI saved as data/processed/ndvi.png\n"
     ]
    }
   ],
   "source": [
    "# Paths\n",
    "ndvi_path = 'data/processed/ndvi.tif'\n",
    "output_dir = 'data/processed'\n",
    "png_path = os.path.join(output_dir, 'ndvi.png')\n",
    "map_path = os.path.join(output_dir, 'ndvi_map.html')\n",
    "# Load NDVI\n",
    "try:\n",
    "    with rasterio.open(ndvi_path) as src:\n",
    "        ndvi = src.read(1)\n",
    "    print(\"NDVI loaded for PNG conversion!\")\n",
    "except Exception as e:\n",
    "    print(f\"Failed to load NDVI: {e}\")\n",
    "    raise\n",
    "\n",
    "# Plot NDVI as PNG\n",
    "plt.figure(figsize=(10, 10))\n",
    "plt.imshow(ndvi, cmap='RdYlGn', vmin=-1, vmax=1)  # NDVI range: -1 to 1\n",
    "plt.colorbar(label='NDVI')\n",
    "plt.axis('off')\n",
    "plt.savefig(png_path, bbox_inches='tight', transparent=True, dpi=100)\n",
    "plt.close()\n",
    "print(f\"NDVI saved as {png_path}\")"
   ]
  },
  {
   "cell_type": "code",
   "execution_count": 14,
   "metadata": {},
   "outputs": [
    {
     "name": "stdout",
     "output_type": "stream",
     "text": [
      "Map saved as data/processed/ndvi_map.html\n"
     ]
    }
   ],
   "source": [
    "# Visualize NDVI\n",
    "m = folium.Map(location=[-7.25, -56.25], zoom_start=10)\n",
    "folium.GeoJson(\n",
    "    data={\n",
    "        'type': 'Feature',\n",
    "        'geometry': {\n",
    "            'type': 'Polygon',\n",
    "            'coordinates': [[[-56.5, -7.5], [-56.5, -7], [-56, -7], [-56, -7.5], [-56.5, -7.5]]]\n",
    "        }\n",
    "    }\n",
    ").add_to(m)\n",
    "# Add NDVI PNG as ImageOverlay\n",
    "folium.raster_layers.ImageOverlay(\n",
    "    image=png_path,\n",
    "    bounds=[[-7.5, -56.5], [-7, -56]],\n",
    "    opacity=0.7,\n",
    "    interactive=True\n",
    ").add_to(m)\n",
    "\n",
    "# Save map\n",
    "m.save(map_path)\n",
    "print(f\"Map saved as {map_path}\")"
   ]
  },
  {
   "cell_type": "code",
   "execution_count": null,
   "metadata": {},
   "outputs": [],
   "source": []
  }
 ],
 "metadata": {
  "kernelspec": {
   "display_name": "GeoAI (.venv)",
   "language": "python",
   "name": "geoai_venv"
  },
  "language_info": {
   "codemirror_mode": {
    "name": "ipython",
    "version": 3
   },
   "file_extension": ".py",
   "mimetype": "text/x-python",
   "name": "python",
   "nbconvert_exporter": "python",
   "pygments_lexer": "ipython3",
   "version": "3.9.7"
  }
 },
 "nbformat": 4,
 "nbformat_minor": 2
}
