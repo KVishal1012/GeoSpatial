{
 "cells": [
  {
   "cell_type": "code",
   "execution_count": 1,
   "metadata": {},
   "outputs": [],
   "source": [
    "import numpy as np\n",
    "import pandas as pd \n",
    "import matplotlib.pyplot as plt \n",
    "import seaborn as sn "
   ]
  },
  {
   "cell_type": "code",
   "execution_count": null,
   "metadata": {},
   "outputs": [],
   "source": [
    "a = np.zeros(10)  # create an array of 10 zeros\n",
    "print(a)\n",
    "\n",
    "a_2d = np.zeros((5, 4))  # create a 2D array of 5x4 zeros\n",
    "print(a_2d)\n",
    "\n",
    "a_3d = np.zeros((5, 4, 3))  # create a 3D array of 5x4x3 zeros\n",
    "print(a_3d)"
   ]
  },
  {
   "cell_type": "code",
   "execution_count": null,
   "metadata": {},
   "outputs": [],
   "source": [
    "b = np.random.random(10) # create an array of 10 random numbers\n",
    "print(b)\n",
    "\n",
    "b_2d = np.random.random((5, 4)) # create a 2D array of 5x4 random numbers\n",
    "print(b_2d)\n",
    "\n",
    "b_3d = np.random.random((5, 4, 3)) # create a 3D array of 5x4x3 random numbers\n",
    "print(b_3d)\n",
    "\n",
    "b_4d = np.random.random((5, 4, 3, 2)) # create a 4D array of 5x4x3x2 random numbers\n",
    "print(b_4d)\n"
   ]
  },
  {
   "cell_type": "code",
   "execution_count": null,
   "metadata": {},
   "outputs": [],
   "source": [
    "plt.scatter (np.arange(10,23), np.arange(10,23)) # plot the random numbers\n",
    "plt.show()"
   ]
  },
  {
   "cell_type": "code",
   "execution_count": null,
   "metadata": {},
   "outputs": [],
   "source": [
    "\n",
    "c = np.random.randint(0, 10, 10)\n",
    "print(c)\n",
    "\n",
    "d = np.arange(10)\n",
    "print(d)\n",
    "\n",
    "e = np.linspace(0, 10, 100)\n",
    "print(e)"
   ]
  },
  {
   "cell_type": "code",
   "execution_count": null,
   "metadata": {},
   "outputs": [],
   "source": [
    "f = np.logspace(0, 10, 100) # create an array of 100 numbers from 0 to 10 in log scale\n",
    "print(f)    # print the array       \n",
    "plt.plot(f) # plot the array\n",
    "plt.show()  # display the plot"
   ]
  },
  {
   "cell_type": "code",
   "execution_count": null,
   "metadata": {},
   "outputs": [],
   "source": [
    "\n",
    "g = np.random.randint(0, 10, 10)\n",
    "print(g)\n",
    "print(g[2]) # print the 3rd element of the array\n",
    "print(g[2:5]) # print the 3rd to 5th elements of the array\n",
    "print(g[:5]) # print the first 5 elements of the array\n",
    "\n"
   ]
  },
  {
   "cell_type": "code",
   "execution_count": null,
   "metadata": {},
   "outputs": [],
   "source": [
    "\n",
    "list = [\n",
    "    [1, 2, 3],\n",
    "    [4, 5, 6],\n",
    "    [7, 8, 9],      \n",
    "]\n",
    "\n",
    "array = np.array(list)  # convert the list to a numpy array\n",
    "print(array)        # print the array\n",
    "print(array.shape)  # print the shape of the array\n",
    "print(array.size)   # print the size of the array\n",
    "print(array.ndim)   # print the number of dimensions of the array   \n",
    "print(np.flatten(array)) # flatten the array\n",
    "print(array.flatten()) # flatten the array\n",
    "print(array.T)      # transpose the array"
   ]
  }
 ],
 "metadata": {
  "kernelspec": {
   "display_name": ".venv",
   "language": "python",
   "name": "python3"
  },
  "language_info": {
   "codemirror_mode": {
    "name": "ipython",
    "version": 3
   },
   "file_extension": ".py",
   "mimetype": "text/x-python",
   "name": "python",
   "nbconvert_exporter": "python",
   "pygments_lexer": "ipython3",
   "version": "3.13.2"
  }
 },
 "nbformat": 4,
 "nbformat_minor": 2
}
